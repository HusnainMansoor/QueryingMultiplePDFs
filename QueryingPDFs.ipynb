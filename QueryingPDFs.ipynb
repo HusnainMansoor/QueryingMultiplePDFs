{
 "cells": [
  {
   "cell_type": "markdown",
   "metadata": {},
   "source": [
    "# Summarizing Multiple PDFs"
   ]
  },
  {
   "cell_type": "code",
   "execution_count": 15,
   "metadata": {},
   "outputs": [
    {
     "name": "stdout",
     "output_type": "stream",
     "text": [
      "Requirement already satisfied: langchain in c:\\users\\husnainmansoor\\anaconda3\\lib\\site-packages (0.0.215)\n",
      "Requirement already satisfied: openapi-schema-pydantic<2.0,>=1.2 in c:\\users\\husnainmansoor\\anaconda3\\lib\\site-packages (from langchain) (1.2.4)\n",
      "Requirement already satisfied: numpy<2,>=1 in c:\\users\\husnainmansoor\\anaconda3\\lib\\site-packages (from langchain) (1.20.3)\n",
      "Requirement already satisfied: requests<3,>=2 in c:\\users\\husnainmansoor\\anaconda3\\lib\\site-packages (from langchain) (2.26.0)\n",
      "Requirement already satisfied: async-timeout<5.0.0,>=4.0.0 in c:\\users\\husnainmansoor\\anaconda3\\lib\\site-packages (from langchain) (4.0.2)\n",
      "Requirement already satisfied: aiohttp<4.0.0,>=3.8.3 in c:\\users\\husnainmansoor\\anaconda3\\lib\\site-packages (from langchain) (3.8.4)\n",
      "Requirement already satisfied: tenacity<9.0.0,>=8.1.0 in c:\\users\\husnainmansoor\\anaconda3\\lib\\site-packages (from langchain) (8.2.2)\n",
      "Requirement already satisfied: PyYAML>=5.4.1 in c:\\users\\husnainmansoor\\anaconda3\\lib\\site-packages (from langchain) (6.0)\n",
      "Requirement already satisfied: numexpr<3.0.0,>=2.8.4 in c:\\users\\husnainmansoor\\anaconda3\\lib\\site-packages (from langchain) (2.8.4)\n",
      "Requirement already satisfied: pydantic<2,>=1 in c:\\users\\husnainmansoor\\anaconda3\\lib\\site-packages (from langchain) (1.10.9)\n",
      "Requirement already satisfied: SQLAlchemy<3,>=1.4 in c:\\users\\husnainmansoor\\anaconda3\\lib\\site-packages (from langchain) (1.4.22)\n",
      "Requirement already satisfied: dataclasses-json<0.6.0,>=0.5.7 in c:\\users\\husnainmansoor\\anaconda3\\lib\\site-packages (from langchain) (0.5.8)\n",
      "Requirement already satisfied: langchainplus-sdk>=0.0.17 in c:\\users\\husnainmansoor\\anaconda3\\lib\\site-packages (from langchain) (0.0.17)\n",
      "Requirement already satisfied: frozenlist>=1.1.1 in c:\\users\\husnainmansoor\\anaconda3\\lib\\site-packages (from aiohttp<4.0.0,>=3.8.3->langchain) (1.3.3)\n",
      "Requirement already satisfied: aiosignal>=1.1.2 in c:\\users\\husnainmansoor\\anaconda3\\lib\\site-packages (from aiohttp<4.0.0,>=3.8.3->langchain) (1.3.1)\n",
      "Requirement already satisfied: yarl<2.0,>=1.0 in c:\\users\\husnainmansoor\\anaconda3\\lib\\site-packages (from aiohttp<4.0.0,>=3.8.3->langchain) (1.9.2)\n",
      "Requirement already satisfied: charset-normalizer<4.0,>=2.0 in c:\\users\\husnainmansoor\\anaconda3\\lib\\site-packages (from aiohttp<4.0.0,>=3.8.3->langchain) (2.0.4)\n",
      "Requirement already satisfied: multidict<7.0,>=4.5 in c:\\users\\husnainmansoor\\anaconda3\\lib\\site-packages (from aiohttp<4.0.0,>=3.8.3->langchain) (6.0.4)\n",
      "Requirement already satisfied: attrs>=17.3.0 in c:\\users\\husnainmansoor\\anaconda3\\lib\\site-packages (from aiohttp<4.0.0,>=3.8.3->langchain) (21.2.0)\n",
      "Requirement already satisfied: typing-inspect>=0.4.0 in c:\\users\\husnainmansoor\\anaconda3\\lib\\site-packages (from dataclasses-json<0.6.0,>=0.5.7->langchain) (0.9.0)\n",
      "Requirement already satisfied: marshmallow<4.0.0,>=3.3.0 in c:\\users\\husnainmansoor\\anaconda3\\lib\\site-packages (from dataclasses-json<0.6.0,>=0.5.7->langchain) (3.19.0)\n",
      "Requirement already satisfied: marshmallow-enum<2.0.0,>=1.5.1 in c:\\users\\husnainmansoor\\anaconda3\\lib\\site-packages (from dataclasses-json<0.6.0,>=0.5.7->langchain) (1.5.1)\n",
      "Requirement already satisfied: packaging>=17.0 in c:\\users\\husnainmansoor\\anaconda3\\lib\\site-packages (from marshmallow<4.0.0,>=3.3.0->dataclasses-json<0.6.0,>=0.5.7->langchain) (21.0)\n",
      "Requirement already satisfied: pyparsing>=2.0.2 in c:\\users\\husnainmansoor\\anaconda3\\lib\\site-packages (from packaging>=17.0->marshmallow<4.0.0,>=3.3.0->dataclasses-json<0.6.0,>=0.5.7->langchain) (3.0.4)\n",
      "Requirement already satisfied: typing-extensions>=4.2.0 in c:\\users\\husnainmansoor\\anaconda3\\lib\\site-packages (from pydantic<2,>=1->langchain) (4.6.3)\n",
      "Requirement already satisfied: idna<4,>=2.5 in c:\\users\\husnainmansoor\\anaconda3\\lib\\site-packages (from requests<3,>=2->langchain) (3.2)\n",
      "Requirement already satisfied: urllib3<1.27,>=1.21.1 in c:\\users\\husnainmansoor\\anaconda3\\lib\\site-packages (from requests<3,>=2->langchain) (1.26.7)\n",
      "Requirement already satisfied: certifi>=2017.4.17 in c:\\users\\husnainmansoor\\anaconda3\\lib\\site-packages (from requests<3,>=2->langchain) (2021.10.8)\n",
      "Requirement already satisfied: greenlet!=0.4.17 in c:\\users\\husnainmansoor\\anaconda3\\lib\\site-packages (from SQLAlchemy<3,>=1.4->langchain) (1.1.1)\n",
      "Requirement already satisfied: mypy-extensions>=0.3.0 in c:\\users\\husnainmansoor\\anaconda3\\lib\\site-packages (from typing-inspect>=0.4.0->dataclasses-json<0.6.0,>=0.5.7->langchain) (0.4.3)\n",
      "Requirement already satisfied: openai in c:\\users\\husnainmansoor\\anaconda3\\lib\\site-packages (0.27.8)\n",
      "Requirement already satisfied: aiohttp in c:\\users\\husnainmansoor\\anaconda3\\lib\\site-packages (from openai) (3.8.4)\n",
      "Requirement already satisfied: requests>=2.20 in c:\\users\\husnainmansoor\\anaconda3\\lib\\site-packages (from openai) (2.26.0)\n",
      "Requirement already satisfied: tqdm in c:\\users\\husnainmansoor\\anaconda3\\lib\\site-packages (from openai) (4.62.3)\n",
      "Requirement already satisfied: certifi>=2017.4.17 in c:\\users\\husnainmansoor\\anaconda3\\lib\\site-packages (from requests>=2.20->openai) (2021.10.8)\n",
      "Requirement already satisfied: idna<4,>=2.5 in c:\\users\\husnainmansoor\\anaconda3\\lib\\site-packages (from requests>=2.20->openai) (3.2)\n",
      "Requirement already satisfied: urllib3<1.27,>=1.21.1 in c:\\users\\husnainmansoor\\anaconda3\\lib\\site-packages (from requests>=2.20->openai) (1.26.7)\n",
      "Requirement already satisfied: charset-normalizer~=2.0.0 in c:\\users\\husnainmansoor\\anaconda3\\lib\\site-packages (from requests>=2.20->openai) (2.0.4)\n",
      "Requirement already satisfied: attrs>=17.3.0 in c:\\users\\husnainmansoor\\anaconda3\\lib\\site-packages (from aiohttp->openai) (21.2.0)\n",
      "Requirement already satisfied: async-timeout<5.0,>=4.0.0a3 in c:\\users\\husnainmansoor\\anaconda3\\lib\\site-packages (from aiohttp->openai) (4.0.2)\n",
      "Requirement already satisfied: multidict<7.0,>=4.5 in c:\\users\\husnainmansoor\\anaconda3\\lib\\site-packages (from aiohttp->openai) (6.0.4)\n",
      "Requirement already satisfied: frozenlist>=1.1.1 in c:\\users\\husnainmansoor\\anaconda3\\lib\\site-packages (from aiohttp->openai) (1.3.3)\n",
      "Requirement already satisfied: aiosignal>=1.1.2 in c:\\users\\husnainmansoor\\anaconda3\\lib\\site-packages (from aiohttp->openai) (1.3.1)\n",
      "Requirement already satisfied: yarl<2.0,>=1.0 in c:\\users\\husnainmansoor\\anaconda3\\lib\\site-packages (from aiohttp->openai) (1.9.2)\n",
      "Requirement already satisfied: colorama in c:\\users\\husnainmansoor\\anaconda3\\lib\\site-packages (from tqdm->openai) (0.4.4)\n",
      "Collecting chromadb\n",
      "  Using cached chromadb-0.4.8-py3-none-any.whl (418 kB)\n",
      "Requirement already satisfied: typing-extensions>=4.5.0 in c:\\users\\husnainmansoor\\anaconda3\\lib\\site-packages (from chromadb) (4.6.3)\n",
      "Requirement already satisfied: pydantic<2.0,>=1.9 in c:\\users\\husnainmansoor\\anaconda3\\lib\\site-packages (from chromadb) (1.10.9)\n",
      "Collecting overrides>=7.3.1\n",
      "  Using cached overrides-7.4.0-py3-none-any.whl (17 kB)\n",
      "Collecting fastapi<0.100.0,>=0.95.2\n",
      "  Using cached fastapi-0.99.1-py3-none-any.whl (58 kB)\n",
      "Collecting bcrypt>=4.0.1\n",
      "  Using cached bcrypt-4.0.1-cp36-abi3-win_amd64.whl (152 kB)\n",
      "Collecting pypika>=0.48.9\n",
      "  Using cached PyPika-0.48.9-py2.py3-none-any.whl\n",
      "Collecting tokenizers>=0.13.2\n",
      "  Using cached tokenizers-0.13.3-cp39-cp39-win_amd64.whl (3.5 MB)\n",
      "Collecting tqdm>=4.65.0\n",
      "  Using cached tqdm-4.66.1-py3-none-any.whl (78 kB)\n",
      "Collecting chroma-hnswlib==0.7.2\n",
      "  Using cached chroma-hnswlib-0.7.2.tar.gz (31 kB)\n",
      "  Installing build dependencies: started\n",
      "  Installing build dependencies: finished with status 'done'\n",
      "  Getting requirements to build wheel: started\n",
      "  Getting requirements to build wheel: finished with status 'done'\n",
      "    Preparing wheel metadata: started\n",
      "    Preparing wheel metadata: finished with status 'done'\n",
      "Collecting uvicorn[standard]>=0.18.3\n",
      "  Using cached uvicorn-0.23.2-py3-none-any.whl (59 kB)\n",
      "Collecting importlib-resources\n",
      "  Using cached importlib_resources-6.0.1-py3-none-any.whl (34 kB)\n",
      "Collecting onnxruntime>=1.14.1\n",
      "  Using cached onnxruntime-1.15.1-cp39-cp39-win_amd64.whl (6.7 MB)\n",
      "Collecting posthog>=2.4.0\n",
      "  Using cached posthog-3.0.2-py2.py3-none-any.whl (37 kB)\n",
      "Collecting pulsar-client>=3.1.0\n",
      "  Using cached pulsar_client-3.3.0-cp39-cp39-win_amd64.whl (3.4 MB)\n",
      "Collecting numpy>=1.21.6\n",
      "  Using cached numpy-1.25.2-cp39-cp39-win_amd64.whl (15.6 MB)\n",
      "Collecting requests>=2.28\n",
      "  Using cached requests-2.31.0-py3-none-any.whl (62 kB)\n",
      "Collecting starlette<0.28.0,>=0.27.0\n",
      "  Using cached starlette-0.27.0-py3-none-any.whl (66 kB)\n",
      "Requirement already satisfied: protobuf in c:\\users\\husnainmansoor\\anaconda3\\lib\\site-packages (from onnxruntime>=1.14.1->chromadb) (3.19.4)\n",
      "Requirement already satisfied: flatbuffers in c:\\users\\husnainmansoor\\anaconda3\\lib\\site-packages (from onnxruntime>=1.14.1->chromadb) (1.12)\n",
      "Collecting coloredlogs\n",
      "  Using cached coloredlogs-15.0.1-py2.py3-none-any.whl (46 kB)\n",
      "Requirement already satisfied: packaging in c:\\users\\husnainmansoor\\anaconda3\\lib\\site-packages (from onnxruntime>=1.14.1->chromadb) (21.0)\n",
      "Requirement already satisfied: sympy in c:\\users\\husnainmansoor\\anaconda3\\lib\\site-packages (from onnxruntime>=1.14.1->chromadb) (1.9)\n",
      "Collecting monotonic>=1.5\n",
      "  Using cached monotonic-1.6-py2.py3-none-any.whl (8.2 kB)\n",
      "Requirement already satisfied: six>=1.5 in c:\\users\\husnainmansoor\\anaconda3\\lib\\site-packages (from posthog>=2.4.0->chromadb) (1.16.0)\n",
      "Collecting backoff>=1.10.0\n",
      "  Using cached backoff-2.2.1-py3-none-any.whl (15 kB)\n",
      "Requirement already satisfied: python-dateutil>2.1 in c:\\users\\husnainmansoor\\anaconda3\\lib\\site-packages (from posthog>=2.4.0->chromadb) (2.8.2)\n",
      "Requirement already satisfied: certifi in c:\\users\\husnainmansoor\\anaconda3\\lib\\site-packages (from pulsar-client>=3.1.0->chromadb) (2021.10.8)\n",
      "Requirement already satisfied: urllib3<3,>=1.21.1 in c:\\users\\husnainmansoor\\anaconda3\\lib\\site-packages (from requests>=2.28->chromadb) (1.26.7)\n",
      "Requirement already satisfied: idna<4,>=2.5 in c:\\users\\husnainmansoor\\anaconda3\\lib\\site-packages (from requests>=2.28->chromadb) (3.2)\n",
      "Requirement already satisfied: charset-normalizer<4,>=2 in c:\\users\\husnainmansoor\\anaconda3\\lib\\site-packages (from requests>=2.28->chromadb) (2.0.4)\n",
      "Collecting anyio<5,>=3.4.0\n",
      "  Using cached anyio-4.0.0-py3-none-any.whl (83 kB)\n",
      "Requirement already satisfied: sniffio>=1.1 in c:\\users\\husnainmansoor\\anaconda3\\lib\\site-packages (from anyio<5,>=3.4.0->starlette<0.28.0,>=0.27.0->fastapi<0.100.0,>=0.95.2->chromadb) (1.2.0)\n",
      "Collecting exceptiongroup>=1.0.2\n",
      "  Using cached exceptiongroup-1.1.3-py3-none-any.whl (14 kB)\n",
      "Requirement already satisfied: colorama in c:\\users\\husnainmansoor\\anaconda3\\lib\\site-packages (from tqdm>=4.65.0->chromadb) (0.4.4)\n",
      "Collecting h11>=0.8\n",
      "  Using cached h11-0.14.0-py3-none-any.whl (58 kB)\n",
      "Requirement already satisfied: click>=7.0 in c:\\users\\husnainmansoor\\anaconda3\\lib\\site-packages (from uvicorn[standard]>=0.18.3->chromadb) (8.0.3)\n",
      "Requirement already satisfied: python-dotenv>=0.13 in c:\\users\\husnainmansoor\\anaconda3\\lib\\site-packages (from uvicorn[standard]>=0.18.3->chromadb) (1.0.0)\n",
      "Requirement already satisfied: pyyaml>=5.1 in c:\\users\\husnainmansoor\\anaconda3\\lib\\site-packages (from uvicorn[standard]>=0.18.3->chromadb) (6.0)\n",
      "Collecting httptools>=0.5.0\n",
      "  Using cached httptools-0.6.0-cp39-cp39-win_amd64.whl (147 kB)\n",
      "Collecting watchfiles>=0.13\n",
      "  Using cached watchfiles-0.20.0-cp37-abi3-win_amd64.whl (276 kB)\n",
      "Collecting websockets>=10.4\n",
      "  Using cached websockets-11.0.3-cp39-cp39-win_amd64.whl (124 kB)\n",
      "Collecting humanfriendly>=9.1\n",
      "  Using cached humanfriendly-10.0-py2.py3-none-any.whl (86 kB)\n",
      "Collecting pyreadline3\n",
      "  Using cached pyreadline3-3.4.1-py3-none-any.whl (95 kB)\n",
      "Requirement already satisfied: zipp>=3.1.0 in c:\\users\\husnainmansoor\\anaconda3\\lib\\site-packages (from importlib-resources->chromadb) (3.6.0)\n",
      "Requirement already satisfied: pyparsing>=2.0.2 in c:\\users\\husnainmansoor\\anaconda3\\lib\\site-packages (from packaging->onnxruntime>=1.14.1->chromadb) (3.0.4)\n",
      "Requirement already satisfied: mpmath>=0.19 in c:\\users\\husnainmansoor\\anaconda3\\lib\\site-packages (from sympy->onnxruntime>=1.14.1->chromadb) (1.2.1)\n",
      "Building wheels for collected packages: chroma-hnswlib\n",
      "  Building wheel for chroma-hnswlib (PEP 517): started\n",
      "  Building wheel for chroma-hnswlib (PEP 517): finished with status 'error'\n",
      "Failed to build chroma-hnswlib\n"
     ]
    },
    {
     "name": "stderr",
     "output_type": "stream",
     "text": [
      "  ERROR: Command errored out with exit status 1:\n",
      "   command: 'C:\\Users\\HusnainMansoor\\anaconda3\\python.exe' 'C:\\Users\\HusnainMansoor\\anaconda3\\lib\\site-packages\\pip\\_vendor\\pep517\\in_process\\_in_process.py' build_wheel 'C:\\Users\\HUSNAI~1\\AppData\\Local\\Temp\\tmpk7ux7mb6'\n",
      "       cwd: C:\\Users\\HusnainMansoor\\AppData\\Local\\Temp\\pip-install-c8kvyf_r\\chroma-hnswlib_5cb0f0b41c4b43c89869c81256c389d3\n",
      "  Complete output (5 lines):\n",
      "  running bdist_wheel\n",
      "  running build\n",
      "  running build_ext\n",
      "  building 'hnswlib' extension\n",
      "  error: Microsoft Visual C++ 14.0 or greater is required. Get it with \"Microsoft C++ Build Tools\": https://visualstudio.microsoft.com/visual-cpp-build-tools/\n",
      "  ----------------------------------------\n",
      "  ERROR: Failed building wheel for chroma-hnswlib\n",
      "ERROR: Could not build wheels for chroma-hnswlib which use PEP 517 and cannot be installed directly\n"
     ]
    }
   ],
   "source": [
    "!pip install langchain\n",
    "!pip install openai\n",
    "!pip install chromadb"
   ]
  },
  {
   "cell_type": "code",
   "execution_count": 16,
   "metadata": {},
   "outputs": [],
   "source": [
    "from langchain.chains.summarize import load_summarize_chain\n",
    "from langchain.document_loaders import PyPDFLoader\n",
    "from langchain import OpenAI, PromptTemplate\n",
    "import glob"
   ]
  },
  {
   "cell_type": "code",
   "execution_count": 17,
   "metadata": {},
   "outputs": [],
   "source": [
    "import os\n",
    "os.environ[\"OPENAI_API_KEY\"] = \"Enter Key\"\n",
    "llm = OpenAI(temperature=0.2)\n",
    "def summarize_pdfs_from_folder(pdfs_folder):\n",
    "    summaries = []\n",
    "    for pdf_file in glob.glob(pdfs_folder + \"/*.pdf\"):\n",
    "        loader = PyPDFLoader(pdf_file)\n",
    "        docs = loader.load_and_split()\n",
    "        chain = load_summarize_chain(llm, chain_type=\"map_reduce\")\n",
    "        summary = chain.run(docs)\n",
    "        print(\"Summary for: \", pdf_file)\n",
    "        print(summary)\n",
    "        print(\"\\n\")\n",
    "        summaries.append(summary)\n",
    "    \n",
    "    return summaries"
   ]
  },
  {
   "cell_type": "code",
   "execution_count": 18,
   "metadata": {},
   "outputs": [],
   "source": [
    "def custom_summary(pdf_folder, custom_prompt):\n",
    "    summaries = []\n",
    "    for pdf_file in glob.glob(\"C:/Users/HusnainMansoor/Documents/pdf\"):\n",
    "        loader = PyPDFLoader(pdf_file)\n",
    "        docs = loader.load_and_split()\n",
    "        prompt_template = custom_prompt + \"\"\"\n",
    "\n",
    "        {text}\n",
    "\n",
    "        SUMMARY:\"\"\"\n",
    "        PROMPT = PromptTemplate(template=prompt_template, input_variables=[\"text\"])\n",
    "        chain = load_summarize_chain(llm, chain_type=\"map_reduce\", \n",
    "                                    map_prompt=PROMPT, combine_prompt=PROMPT)\n",
    "        summary_output = chain({\"input_documents\": docs},return_only_outputs=True)[\"output_text\"]\n",
    "        summaries.append(summary_output)\n",
    "        \n",
    "    return summaries"
   ]
  },
  {
   "cell_type": "code",
   "execution_count": 19,
   "metadata": {},
   "outputs": [
    {
     "name": "stdout",
     "output_type": "stream",
     "text": [
      "Requirement already satisfied: pypdf in c:\\users\\husnainmansoor\\anaconda3\\lib\\site-packages (3.15.5)\n",
      "Requirement already satisfied: typing_extensions>=3.7.4.3 in c:\\users\\husnainmansoor\\anaconda3\\lib\\site-packages (from pypdf) (4.6.3)\n",
      "Requirement already satisfied: tiktoken in c:\\users\\husnainmansoor\\anaconda3\\lib\\site-packages (0.4.0)\n",
      "Requirement already satisfied: requests>=2.26.0 in c:\\users\\husnainmansoor\\anaconda3\\lib\\site-packages (from tiktoken) (2.26.0)\n",
      "Requirement already satisfied: regex>=2022.1.18 in c:\\users\\husnainmansoor\\anaconda3\\lib\\site-packages (from tiktoken) (2023.8.8)\n",
      "Requirement already satisfied: certifi>=2017.4.17 in c:\\users\\husnainmansoor\\anaconda3\\lib\\site-packages (from requests>=2.26.0->tiktoken) (2021.10.8)\n",
      "Requirement already satisfied: charset-normalizer~=2.0.0 in c:\\users\\husnainmansoor\\anaconda3\\lib\\site-packages (from requests>=2.26.0->tiktoken) (2.0.4)\n",
      "Requirement already satisfied: urllib3<1.27,>=1.21.1 in c:\\users\\husnainmansoor\\anaconda3\\lib\\site-packages (from requests>=2.26.0->tiktoken) (1.26.7)\n",
      "Requirement already satisfied: idna<4,>=2.5 in c:\\users\\husnainmansoor\\anaconda3\\lib\\site-packages (from requests>=2.26.0->tiktoken) (3.2)\n",
      "Summary for:  C:/Users/HusnainMansoor/Documents/pdf\\Apple-Report-by-Jason-Harris-and-Neel-Munot-042616 (1).pdf\n",
      " This analyst report recommends buying Apple Inc. (AAPL) stock with a target price of $137. The report covers the company's performance, financials, and outlook, and highlights the main drivers for revenue growth, risk factors, and competitive advantages. Apple Inc. has a strong financial position and market perception compared to its peers and the industry, and the analysis provides an intrinsic value of $105.06 using two methods. The report concludes with a recommendation to 'BUY' the stock.\n",
      "\n",
      "\n"
     ]
    },
    {
     "name": "stderr",
     "output_type": "stream",
     "text": [
      "Retrying langchain.llms.openai.completion_with_retry.<locals>._completion_with_retry in 4.0 seconds as it raised RateLimitError: Rate limit reached for default-text-davinci-003 in organization org-TVFyquPc0b0sXXayzv8O31XG on requests per min. Limit: 3 / min. Please try again in 20s. Contact us through our help center at help.openai.com if you continue to have issues. Please add a payment method to your account to increase your rate limit. Visit https://platform.openai.com/account/billing to add a payment method..\n",
      "Retrying langchain.llms.openai.completion_with_retry.<locals>._completion_with_retry in 4.0 seconds as it raised RateLimitError: Rate limit reached for default-text-davinci-003 in organization org-TVFyquPc0b0sXXayzv8O31XG on requests per min. Limit: 3 / min. Please try again in 20s. Contact us through our help center at help.openai.com if you continue to have issues. Please add a payment method to your account to increase your rate limit. Visit https://platform.openai.com/account/billing to add a payment method..\n"
     ]
    },
    {
     "name": "stdout",
     "output_type": "stream",
     "text": [
      "Summary for:  C:/Users/HusnainMansoor/Documents/pdf\\Evaluation_of_development_of_Apple_Inc_stock_price (1).pdf\n",
      " This article examines the historical development of Apple Inc.'s stock prices from 2000 to 2020, including the COVID-19 pandemic period, and the period of economic crisis from 2007-2009. It looks at the factors that influence stock prices, such as the launch of new products, product prices, customer reactions, external events, and the overall operation of the company. It also reviews 18 research papers that explore the use of sentiment analysis, text mining, forecasting, comovements, contagion, news and events, cashtags, hybrid machine learning, and neural networks to predict stock prices.\n",
      "\n",
      "\n"
     ]
    },
    {
     "name": "stderr",
     "output_type": "stream",
     "text": [
      "Retrying langchain.llms.openai.completion_with_retry.<locals>._completion_with_retry in 4.0 seconds as it raised RateLimitError: Rate limit reached for default-text-davinci-003 in organization org-TVFyquPc0b0sXXayzv8O31XG on requests per min. Limit: 3 / min. Please try again in 20s. Contact us through our help center at help.openai.com if you continue to have issues. Please add a payment method to your account to increase your rate limit. Visit https://platform.openai.com/account/billing to add a payment method..\n",
      "Retrying langchain.llms.openai.completion_with_retry.<locals>._completion_with_retry in 4.0 seconds as it raised RateLimitError: Rate limit reached for default-text-davinci-003 in organization org-TVFyquPc0b0sXXayzv8O31XG on requests per min. Limit: 3 / min. Please try again in 20s. Contact us through our help center at help.openai.com if you continue to have issues. Please add a payment method to your account to increase your rate limit. Visit https://platform.openai.com/account/billing to add a payment method..\n",
      "Retrying langchain.llms.openai.completion_with_retry.<locals>._completion_with_retry in 4.0 seconds as it raised RateLimitError: Rate limit reached for default-text-davinci-003 in organization org-TVFyquPc0b0sXXayzv8O31XG on requests per min. Limit: 3 / min. Please try again in 20s. Contact us through our help center at help.openai.com if you continue to have issues. Please add a payment method to your account to increase your rate limit. Visit https://platform.openai.com/account/billing to add a payment method..\n",
      "Retrying langchain.llms.openai.completion_with_retry.<locals>._completion_with_retry in 8.0 seconds as it raised RateLimitError: Rate limit reached for default-text-davinci-003 in organization org-TVFyquPc0b0sXXayzv8O31XG on requests per min. Limit: 3 / min. Please try again in 20s. Contact us through our help center at help.openai.com if you continue to have issues. Please add a payment method to your account to increase your rate limit. Visit https://platform.openai.com/account/billing to add a payment method..\n",
      "Retrying langchain.llms.openai.completion_with_retry.<locals>._completion_with_retry in 4.0 seconds as it raised RateLimitError: Rate limit reached for default-text-davinci-003 in organization org-TVFyquPc0b0sXXayzv8O31XG on requests per min. Limit: 3 / min. Please try again in 20s. Contact us through our help center at help.openai.com if you continue to have issues. Please add a payment method to your account to increase your rate limit. Visit https://platform.openai.com/account/billing to add a payment method..\n",
      "Retrying langchain.llms.openai.completion_with_retry.<locals>._completion_with_retry in 4.0 seconds as it raised RateLimitError: Rate limit reached for default-text-davinci-003 in organization org-TVFyquPc0b0sXXayzv8O31XG on requests per min. Limit: 3 / min. Please try again in 20s. Contact us through our help center at help.openai.com if you continue to have issues. Please add a payment method to your account to increase your rate limit. Visit https://platform.openai.com/account/billing to add a payment method..\n"
     ]
    },
    {
     "name": "stdout",
     "output_type": "stream",
     "text": [
      "Summary for:  C:/Users/HusnainMansoor/Documents/pdf\\shsconf_ies2021_01012.pdf\n",
      " This article examines the historical development of Apple Inc.'s stock prices from 2000-2020, and the factors that influence stock prices. It discusses the importance of knowledge-based decision support systems for financial management, the complexity of predicting stock prices, and the influence of politics, social prospects, sales, and socio-economic factors on stock prices. It also looks at the impact of the COVID-19 pandemic and the 2007-2009 economic crisis on Apple Inc. stock prices. The article reviews 18 different studies on stock market prediction techniques, including sentiment analysis, text mining, forecasting, comovements, contagion, news and events, cashtag neural networks, hybrid machine learning, and time series alignment.\n",
      "\n",
      "\n"
     ]
    }
   ],
   "source": [
    "!pip install pypdf\n",
    "!pip install tiktoken\n",
    "\n",
    "summaries = summarize_pdfs_from_folder(\"C:/Users/HusnainMansoor/Documents/pdf\")"
   ]
  },
  {
   "cell_type": "code",
   "execution_count": 20,
   "metadata": {},
   "outputs": [],
   "source": [
    "# Save all summaries into one .txt file\n",
    "with open(\"C:/Users/HusnainMansoor/Documents/pdf/summaries.txt\", \"w\") as f:\n",
    "    for summary in summaries:\n",
    "        f.write(summary + \"\\n\"*3)"
   ]
  },
  {
   "cell_type": "markdown",
   "metadata": {},
   "source": [
    "# Querying Multiple PDFS"
   ]
  },
  {
   "cell_type": "code",
   "execution_count": 21,
   "metadata": {},
   "outputs": [],
   "source": [
    "# .py\n",
    "from langchain.indexes import VectorstoreIndexCreator\n",
    "from langchain.document_loaders import PyPDFDirectoryLoader"
   ]
  },
  {
   "cell_type": "code",
   "execution_count": 22,
   "metadata": {},
   "outputs": [
    {
     "name": "stdout",
     "output_type": "stream",
     "text": [
      "Collecting chromadb\n",
      "  Using cached chromadb-0.4.8-py3-none-any.whl (418 kB)\n",
      "Collecting posthog>=2.4.0\n",
      "  Using cached posthog-3.0.2-py2.py3-none-any.whl (37 kB)\n",
      "Collecting tqdm>=4.65.0\n",
      "  Using cached tqdm-4.66.1-py3-none-any.whl (78 kB)\n",
      "Collecting onnxruntime>=1.14.1\n",
      "  Using cached onnxruntime-1.15.1-cp39-cp39-win_amd64.whl (6.7 MB)\n",
      "Collecting pypika>=0.48.9\n",
      "  Using cached PyPika-0.48.9-py2.py3-none-any.whl\n",
      "Collecting requests>=2.28\n",
      "  Using cached requests-2.31.0-py3-none-any.whl (62 kB)\n",
      "Collecting overrides>=7.3.1\n",
      "  Using cached overrides-7.4.0-py3-none-any.whl (17 kB)\n",
      "Collecting chroma-hnswlib==0.7.2\n",
      "  Using cached chroma-hnswlib-0.7.2.tar.gz (31 kB)\n",
      "  Installing build dependencies: started\n",
      "  Installing build dependencies: finished with status 'done'\n",
      "  Getting requirements to build wheel: started\n",
      "  Getting requirements to build wheel: finished with status 'done'\n",
      "    Preparing wheel metadata: started\n",
      "    Preparing wheel metadata: finished with status 'done'\n",
      "Collecting numpy>=1.21.6\n",
      "  Using cached numpy-1.25.2-cp39-cp39-win_amd64.whl (15.6 MB)\n",
      "Collecting importlib-resources\n",
      "  Using cached importlib_resources-6.0.1-py3-none-any.whl (34 kB)\n",
      "Collecting bcrypt>=4.0.1\n",
      "  Using cached bcrypt-4.0.1-cp36-abi3-win_amd64.whl (152 kB)\n",
      "Collecting fastapi<0.100.0,>=0.95.2\n",
      "  Using cached fastapi-0.99.1-py3-none-any.whl (58 kB)\n",
      "Collecting pulsar-client>=3.1.0\n",
      "  Using cached pulsar_client-3.3.0-cp39-cp39-win_amd64.whl (3.4 MB)\n",
      "Collecting tokenizers>=0.13.2\n",
      "  Using cached tokenizers-0.13.3-cp39-cp39-win_amd64.whl (3.5 MB)\n",
      "Requirement already satisfied: pydantic<2.0,>=1.9 in c:\\users\\husnainmansoor\\anaconda3\\lib\\site-packages (from chromadb) (1.10.9)\n",
      "Requirement already satisfied: typing-extensions>=4.5.0 in c:\\users\\husnainmansoor\\anaconda3\\lib\\site-packages (from chromadb) (4.6.3)\n",
      "Collecting uvicorn[standard]>=0.18.3\n",
      "  Using cached uvicorn-0.23.2-py3-none-any.whl (59 kB)\n",
      "Collecting starlette<0.28.0,>=0.27.0\n",
      "  Using cached starlette-0.27.0-py3-none-any.whl (66 kB)\n",
      "Requirement already satisfied: flatbuffers in c:\\users\\husnainmansoor\\anaconda3\\lib\\site-packages (from onnxruntime>=1.14.1->chromadb) (1.12)\n",
      "Requirement already satisfied: packaging in c:\\users\\husnainmansoor\\anaconda3\\lib\\site-packages (from onnxruntime>=1.14.1->chromadb) (21.0)\n",
      "Requirement already satisfied: sympy in c:\\users\\husnainmansoor\\anaconda3\\lib\\site-packages (from onnxruntime>=1.14.1->chromadb) (1.9)\n",
      "Requirement already satisfied: protobuf in c:\\users\\husnainmansoor\\anaconda3\\lib\\site-packages (from onnxruntime>=1.14.1->chromadb) (3.19.4)\n",
      "Collecting coloredlogs\n",
      "  Using cached coloredlogs-15.0.1-py2.py3-none-any.whl (46 kB)\n",
      "Collecting monotonic>=1.5\n",
      "  Using cached monotonic-1.6-py2.py3-none-any.whl (8.2 kB)\n",
      "Collecting backoff>=1.10.0\n",
      "  Using cached backoff-2.2.1-py3-none-any.whl (15 kB)\n",
      "Requirement already satisfied: python-dateutil>2.1 in c:\\users\\husnainmansoor\\anaconda3\\lib\\site-packages (from posthog>=2.4.0->chromadb) (2.8.2)\n",
      "Requirement already satisfied: six>=1.5 in c:\\users\\husnainmansoor\\anaconda3\\lib\\site-packages (from posthog>=2.4.0->chromadb) (1.16.0)\n",
      "Requirement already satisfied: certifi in c:\\users\\husnainmansoor\\anaconda3\\lib\\site-packages (from pulsar-client>=3.1.0->chromadb) (2021.10.8)\n",
      "Requirement already satisfied: charset-normalizer<4,>=2 in c:\\users\\husnainmansoor\\anaconda3\\lib\\site-packages (from requests>=2.28->chromadb) (2.0.4)\n",
      "Requirement already satisfied: urllib3<3,>=1.21.1 in c:\\users\\husnainmansoor\\anaconda3\\lib\\site-packages (from requests>=2.28->chromadb) (1.26.7)\n",
      "Requirement already satisfied: idna<4,>=2.5 in c:\\users\\husnainmansoor\\anaconda3\\lib\\site-packages (from requests>=2.28->chromadb) (3.2)\n",
      "Collecting anyio<5,>=3.4.0\n",
      "  Using cached anyio-4.0.0-py3-none-any.whl (83 kB)\n",
      "Collecting exceptiongroup>=1.0.2\n",
      "  Using cached exceptiongroup-1.1.3-py3-none-any.whl (14 kB)\n",
      "Requirement already satisfied: sniffio>=1.1 in c:\\users\\husnainmansoor\\anaconda3\\lib\\site-packages (from anyio<5,>=3.4.0->starlette<0.28.0,>=0.27.0->fastapi<0.100.0,>=0.95.2->chromadb) (1.2.0)\n",
      "Requirement already satisfied: colorama in c:\\users\\husnainmansoor\\anaconda3\\lib\\site-packages (from tqdm>=4.65.0->chromadb) (0.4.4)\n",
      "Collecting h11>=0.8\n",
      "  Using cached h11-0.14.0-py3-none-any.whl (58 kB)\n",
      "Requirement already satisfied: click>=7.0 in c:\\users\\husnainmansoor\\anaconda3\\lib\\site-packages (from uvicorn[standard]>=0.18.3->chromadb) (8.0.3)\n",
      "Collecting watchfiles>=0.13\n",
      "  Using cached watchfiles-0.20.0-cp37-abi3-win_amd64.whl (276 kB)\n",
      "Collecting httptools>=0.5.0\n",
      "  Using cached httptools-0.6.0-cp39-cp39-win_amd64.whl (147 kB)\n",
      "Collecting websockets>=10.4\n",
      "  Using cached websockets-11.0.3-cp39-cp39-win_amd64.whl (124 kB)\n",
      "Requirement already satisfied: python-dotenv>=0.13 in c:\\users\\husnainmansoor\\anaconda3\\lib\\site-packages (from uvicorn[standard]>=0.18.3->chromadb) (1.0.0)\n",
      "Requirement already satisfied: pyyaml>=5.1 in c:\\users\\husnainmansoor\\anaconda3\\lib\\site-packages (from uvicorn[standard]>=0.18.3->chromadb) (6.0)\n",
      "Collecting humanfriendly>=9.1\n",
      "  Using cached humanfriendly-10.0-py2.py3-none-any.whl (86 kB)\n",
      "Collecting pyreadline3\n",
      "  Using cached pyreadline3-3.4.1-py3-none-any.whl (95 kB)\n",
      "Requirement already satisfied: zipp>=3.1.0 in c:\\users\\husnainmansoor\\anaconda3\\lib\\site-packages (from importlib-resources->chromadb) (3.6.0)\n",
      "Requirement already satisfied: pyparsing>=2.0.2 in c:\\users\\husnainmansoor\\anaconda3\\lib\\site-packages (from packaging->onnxruntime>=1.14.1->chromadb) (3.0.4)\n",
      "Requirement already satisfied: mpmath>=0.19 in c:\\users\\husnainmansoor\\anaconda3\\lib\\site-packages (from sympy->onnxruntime>=1.14.1->chromadb) (1.2.1)\n",
      "Building wheels for collected packages: chroma-hnswlib\n",
      "  Building wheel for chroma-hnswlib (PEP 517): started\n",
      "  Building wheel for chroma-hnswlib (PEP 517): finished with status 'error'\n",
      "Failed to build chroma-hnswlib\n"
     ]
    },
    {
     "name": "stderr",
     "output_type": "stream",
     "text": [
      "  ERROR: Command errored out with exit status 1:\n",
      "   command: 'C:\\Users\\HusnainMansoor\\anaconda3\\python.exe' 'C:\\Users\\HusnainMansoor\\anaconda3\\lib\\site-packages\\pip\\_vendor\\pep517\\in_process\\_in_process.py' build_wheel 'C:\\Users\\HUSNAI~1\\AppData\\Local\\Temp\\tmp3h0_nfba'\n",
      "       cwd: C:\\Users\\HusnainMansoor\\AppData\\Local\\Temp\\pip-install-nku0k7mq\\chroma-hnswlib_4e10d2a870bf49ce9773e37d05796a0c\n",
      "  Complete output (5 lines):\n",
      "  running bdist_wheel\n",
      "  running build\n",
      "  running build_ext\n",
      "  building 'hnswlib' extension\n",
      "  error: Microsoft Visual C++ 14.0 or greater is required. Get it with \"Microsoft C++ Build Tools\": https://visualstudio.microsoft.com/visual-cpp-build-tools/\n",
      "  ----------------------------------------\n",
      "  ERROR: Failed building wheel for chroma-hnswlib\n",
      "ERROR: Could not build wheels for chroma-hnswlib which use PEP 517 and cannot be installed directly\n"
     ]
    },
    {
     "ename": "ModuleNotFoundError",
     "evalue": "No module named 'chromadb'",
     "output_type": "error",
     "traceback": [
      "\u001b[1;31m---------------------------------------------------------------------------\u001b[0m",
      "\u001b[1;31mModuleNotFoundError\u001b[0m                       Traceback (most recent call last)",
      "\u001b[1;32mC:\\Users\\HUSNAI~1\\AppData\\Local\\Temp/ipykernel_13160/845015774.py\u001b[0m in \u001b[0;36m<module>\u001b[1;34m\u001b[0m\n\u001b[0;32m      2\u001b[0m \u001b[1;32mimport\u001b[0m \u001b[0mos\u001b[0m\u001b[1;33m\u001b[0m\u001b[1;33m\u001b[0m\u001b[0m\n\u001b[0;32m      3\u001b[0m \u001b[0mos\u001b[0m\u001b[1;33m.\u001b[0m\u001b[0menviron\u001b[0m\u001b[1;33m[\u001b[0m\u001b[1;34m\"HNSWLIB_NO_NATIVE\"\u001b[0m\u001b[1;33m]\u001b[0m \u001b[1;33m=\u001b[0m \u001b[1;34m\"1\"\u001b[0m\u001b[1;33m\u001b[0m\u001b[1;33m\u001b[0m\u001b[0m\n\u001b[1;32m----> 4\u001b[1;33m \u001b[1;32mimport\u001b[0m \u001b[0mchromadb\u001b[0m\u001b[1;33m\u001b[0m\u001b[1;33m\u001b[0m\u001b[0m\n\u001b[0m\u001b[0;32m      5\u001b[0m \u001b[1;33m\u001b[0m\u001b[0m\n\u001b[0;32m      6\u001b[0m \u001b[0mloader\u001b[0m \u001b[1;33m=\u001b[0m \u001b[0mPyPDFDirectoryLoader\u001b[0m\u001b[1;33m(\u001b[0m\u001b[1;34m\"C:/Users/HusnainMansoor/Documents/pdf/\"\u001b[0m\u001b[1;33m)\u001b[0m\u001b[1;33m\u001b[0m\u001b[1;33m\u001b[0m\u001b[0m\n",
      "\u001b[1;31mModuleNotFoundError\u001b[0m: No module named 'chromadb'"
     ]
    }
   ],
   "source": [
    "!pip install chromadb\n",
    "import os\n",
    "os.environ[\"HNSWLIB_NO_NATIVE\"] = \"1\"\n",
    "import chromadb\n",
    "\n",
    "loader = PyPDFDirectoryLoader(\"C:/Users/HusnainMansoor/Documents/pdf/\")\n",
    "\n",
    "docs = loader.load()\n",
    "\n",
    "# Create the vector store index\n",
    "index = VectorstoreIndexCreator().from_loaders([loader])"
   ]
  },
  {
   "cell_type": "code",
   "execution_count": null,
   "metadata": {},
   "outputs": [],
   "source": [
    "query = \"What is the core idea behind the papers?\"\n",
    "\n",
    "index.query(query)"
   ]
  },
  {
   "cell_type": "code",
   "execution_count": null,
   "metadata": {},
   "outputs": [],
   "source": [
    "query = \"What is the central idea that can allow for scaling transformers to 1 million tokens?\"\n",
    "\n",
    "index.query(query)"
   ]
  },
  {
   "cell_type": "code",
   "execution_count": null,
   "metadata": {},
   "outputs": [],
   "source": [
    "query = \"According to the LLM+P paper, how do you empower large language models with optimal planning profficiency?\"\n",
    "\n",
    "index.query(query)"
   ]
  }
 ],
 "metadata": {
  "kernelspec": {
   "display_name": "Python 3 (ipykernel)",
   "language": "python",
   "name": "python3"
  },
  "language_info": {
   "codemirror_mode": {
    "name": "ipython",
    "version": 3
   },
   "file_extension": ".py",
   "mimetype": "text/x-python",
   "name": "python",
   "nbconvert_exporter": "python",
   "pygments_lexer": "ipython3",
   "version": "3.9.7"
  }
 },
 "nbformat": 4,
 "nbformat_minor": 2
}
